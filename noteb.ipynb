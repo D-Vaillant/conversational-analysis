{
 "cells": [
  {
   "cell_type": "code",
   "execution_count": 2,
   "metadata": {},
   "outputs": [],
   "source": [
    "from pymilvus import (\n",
    "    connections,\n",
    "    utility,\n",
    "    FieldSchema,\n",
    "    CollectionSchema,\n",
    "    DataType,\n",
    "    Collection,\n",
    ")\n",
    "\n",
    "connections.connect(\"default\", host=\"localhost\", port=\"19530\")"
   ]
  },
  {
   "cell_type": "code",
   "execution_count": 3,
   "metadata": {},
   "outputs": [],
   "source": [
    "fields = [\n",
    "    FieldSchema(name=\"pk\", dtype=DataType.INT64, is_primary=True, auto_id=False),\n",
    "    FieldSchema(name=\"random\", dtype=DataType.DOUBLE),\n",
    "    FieldSchema(name=\"embeddings\", dtype=DataType.FLOAT_VECTOR, dim=8)\n",
    "]\n",
    "schema = CollectionSchema(fields, \"hello_milvus is the simplest demo to introduce the APIs\")\n",
    "hello_milvus = Collection(\"hello_milvus\", schema)\n"
   ]
  },
  {
   "cell_type": "code",
   "execution_count": 4,
   "metadata": {},
   "outputs": [],
   "source": [
    "import random\n",
    "entities = [\n",
    "    [i for i in range(3000)],  # field pk\n",
    "    [float(random.randrange(-20, -10)) for _ in range(3000)],  # field random\n",
    "    [[random.random() for _ in range(8)] for _ in range(3000)],  # field embeddings\n",
    "]\n",
    "insert_result = hello_milvus.insert(entities)\n",
    "hello_milvus.flush()  \n",
    "\n"
   ]
  },
  {
   "cell_type": "code",
   "execution_count": 5,
   "metadata": {},
   "outputs": [
    {
     "data": {
      "text/plain": [
       "Status(code=0, message=)"
      ]
     },
     "execution_count": 5,
     "metadata": {},
     "output_type": "execute_result"
    }
   ],
   "source": [
    "index = {\n",
    "    \"index_type\": \"IVF_FLAT\",\n",
    "    \"metric_type\": \"L2\",\n",
    "    \"params\": {\"nlist\": 128},\n",
    "}\n",
    "hello_milvus.create_index(\"embeddings\", index)\n"
   ]
  },
  {
   "cell_type": "code",
   "execution_count": 8,
   "metadata": {},
   "outputs": [
    {
     "data": {
      "text/plain": [
       "data: ['[\"id: 2998, distance: 0.0, entity: {\\'random\\': -14.0}\", \"id: 1730, distance: 0.15077632665634155, entity: {\\'random\\': -15.0}\", \"id: 1307, distance: 0.1714766025543213, entity: {\\'random\\': -19.0}\"]', '[\"id: 2999, distance: 0.0, entity: {\\'random\\': -12.0}\", \"id: 2035, distance: 0.13053461909294128, entity: {\\'random\\': -11.0}\", \"id: 2694, distance: 0.1518850028514862, entity: {\\'random\\': -15.0}\"]'], cost: 0"
      ]
     },
     "execution_count": 8,
     "metadata": {},
     "output_type": "execute_result"
    }
   ],
   "source": [
    "hello_milvus.load()\n",
    "vectors_to_search = entities[-1][-2:]\n",
    "search_params = {\n",
    "    \"metric_type\": \"L2\",\n",
    "    \"params\": {\"nprobe\": 10},\n",
    "}\n",
    "\n",
    "result = hello_milvus.search(vectors_to_search, \"embeddings\", search_params, limit=3, output_fields=[\"random\"])\n",
    "result"
   ]
  },
  {
   "cell_type": "code",
   "execution_count": 10,
   "metadata": {},
   "outputs": [
    {
     "data": {
      "text/plain": [
       "data: [\"{'random': -13.0, 'embeddings': [np.float32(0.37147424), np.float32(0.16600205), np.float32(0.45327848), np.float32(0.09031144), np.float32(0.29048324), np.float32(0.5133159), np.float32(0.48912424), np.float32(0.8724253)], 'pk': 4}\", \"{'random': -12.0, 'embeddings': [np.float32(0.6582149), np.float32(0.9071849), np.float32(0.32308224), np.float32(0.45927244), np.float32(0.27894968), np.float32(0.9832718), np.float32(0.23531069), np.float32(0.021644324)], 'pk': 5}\", \"{'random': -13.0, 'embeddings': [np.float32(0.4216679), np.float32(0.06863009), np.float32(0.5040276), np.float32(0.0753118), np.float32(0.3133681), np.float32(0.9328103), np.float32(0.5032293), np.float32(0.88823116)], 'pk': 11}\", \"{'random': -11.0, 'embeddings': [np.float32(0.992923), np.float32(0.8891927), np.float32(0.98501456), np.float32(0.71963996), np.float32(0.3041172), np.float32(0.8890534), np.float32(0.69525313), np.float32(0.9339917)], 'pk': 13}\", \"{'random': -13.0, 'embeddings': [np.float32(0.93922585), np.float32(0.8649249), np.float32(0.22760186), np.float32(0.7966769), np.float32(0.3012788), np.float32(0.90203005), np.float32(0.42806998), np.float32(0.7697451)], 'pk': 19}\", \"{'random': -11.0, 'embeddings': [np.float32(0.42321694), np.float32(0.4091959), np.float32(0.8365446), np.float32(0.836693), np.float32(0.1001318), np.float32(0.21450818), np.float32(0.9445182), np.float32(0.62674725)], 'pk': 35}\", \"{'random': -11.0, 'embeddings': [np.float32(0.8986391), np.float32(0.6032672), np.float32(0.29203635), np.float32(0.31371734), np.float32(0.56046623), np.float32(0.6570368), np.float32(0.6920363), np.float32(0.67390484)], 'pk': 37}\", \"{'random': -11.0, 'embeddings': [np.float32(0.47886518), np.float32(0.29220423), np.float32(0.24763004), np.float32(0.9099449), np.float32(0.30005193), np.float32(0.5493551), np.float32(0.4025718), np.float32(0.09459436)], 'pk': 39}\", \"{'random': -11.0, 'embeddings': [np.float32(0.6190879), np.float32(0.65001076), np.float32(0.10284218), np.float32(0.2726408), np.float32(0.103343874), np.float32(0.69124335), np.float32(0.8306741), np.float32(0.9200875)], 'pk': 45}\", \"{'random': -11.0, 'embeddings': [np.float32(0.39730948), np.float32(0.00024047533), np.float32(0.08005964), np.float32(0.40821484), np.float32(0.7444165), np.float32(0.41853637), np.float32(0.26873192), np.float32(0.26702556)], 'pk': 46}\"] ..., extra_info: {'cost': 0}"
      ]
     },
     "execution_count": 10,
     "metadata": {},
     "output_type": "execute_result"
    }
   ],
   "source": [
    "result = hello_milvus.query(expr=\"random > -14\", output_fields=[\"random\", \"embeddings\"])\n",
    "result"
   ]
  },
  {
   "cell_type": "code",
   "execution_count": 11,
   "metadata": {},
   "outputs": [
    {
     "data": {
      "text/plain": [
       "data: ['[\"id: 2542, distance: 0.19738426804542542, entity: {\\'random\\': -11.0}\", \"id: 2471, distance: 0.2613975405693054, entity: {\\'random\\': -11.0}\", \"id: 1707, distance: 0.31264767050743103, entity: {\\'random\\': -11.0}\"]', '[\"id: 2035, distance: 0.13053461909294128, entity: {\\'random\\': -11.0}\", \"id: 1805, distance: 0.23580807447433472, entity: {\\'random\\': -11.0}\", \"id: 972, distance: 0.2788979113101959, entity: {\\'random\\': -11.0}\"]'], cost: 0"
      ]
     },
     "execution_count": 11,
     "metadata": {},
     "output_type": "execute_result"
    }
   ],
   "source": [
    "result = hello_milvus.search(vectors_to_search, \"embeddings\", search_params, limit=3, expr=\"random > -12\", output_fields=[\"random\"])\n",
    "result"
   ]
  }
 ],
 "metadata": {
  "kernelspec": {
   "display_name": ".venv",
   "language": "python",
   "name": "python3"
  },
  "language_info": {
   "codemirror_mode": {
    "name": "ipython",
    "version": 3
   },
   "file_extension": ".py",
   "mimetype": "text/x-python",
   "name": "python",
   "nbconvert_exporter": "python",
   "pygments_lexer": "ipython3",
   "version": "3.11.9"
  }
 },
 "nbformat": 4,
 "nbformat_minor": 2
}
